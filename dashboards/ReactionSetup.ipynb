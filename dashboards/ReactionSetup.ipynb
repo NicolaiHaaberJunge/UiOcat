{
 "cells": [
  {
   "cell_type": "code",
   "execution_count": 4,
   "source": [
    "%matplotlib widget\r\n",
    "%load_ext autoreload\r\n",
    "%autoreload 2\r\n",
    "\r\n",
    "import ipywidgets as widgets\r\n",
    "from ipywidgets import Output, HBox, VBox, Text, FloatText\r\n",
    "\r\n",
    "\r\n",
    "import numpy as np\r\n",
    "import pandas as pd\r\n",
    "import matplotlib.pyplot as plt\r\n",
    "\r\n",
    "from uiocat.reactions import ReactionSetup\r\n",
    "\r\n",
    "\r\n",
    "plt.style.use('bmh')\r\n",
    "plt.rcParams[\"figure.figsize\"] = (6, 4)"
   ],
   "outputs": [
    {
     "output_type": "stream",
     "name": "stdout",
     "text": [
      "The autoreload extension is already loaded. To reload it, use:\n",
      "  %reload_ext autoreload\n"
     ]
    }
   ],
   "metadata": {
    "autorun": true,
    "jupyter": {
     "source_hidden": true
    }
   }
  },
  {
   "cell_type": "code",
   "execution_count": 3,
   "source": [
    "ReactionSetup()"
   ],
   "outputs": [
    {
     "output_type": "display_data",
     "data": {
      "text/plain": [
       "VBox(children=(Label(value='Test'), HBox(children=(Select(description='Compounds', layout=Layout(height='150px…"
      ],
      "application/vnd.jupyter.widget-view+json": {
       "model_id": "025834cdac60468aae05431b816eb6de",
       "version_major": 2,
       "version_minor": 0
      }
     },
     "metadata": {}
    },
    {
     "output_type": "display_data",
     "data": {
      "text/plain": [
       "HBox(children=(VBox(children=(FloatText(value=0.0, description='Psat (mbar)', layout=Layout(height='30px', wid…"
      ],
      "application/vnd.jupyter.widget-view+json": {
       "model_id": "18c1fae447cb498cbf3abb510e6218c8",
       "version_major": 2,
       "version_minor": 0
      }
     },
     "metadata": {}
    },
    {
     "output_type": "display_data",
     "data": {
      "text/plain": [
       "Output()"
      ],
      "application/vnd.jupyter.widget-view+json": {
       "model_id": "be280322ebd3453b9861db419ed59cc2",
       "version_major": 2,
       "version_minor": 0
      }
     },
     "metadata": {}
    },
    {
     "output_type": "execute_result",
     "data": {
      "text/plain": [
       "<pycat.reactions.ReactionSetup at 0x245a01de550>"
      ]
     },
     "metadata": {},
     "execution_count": 3
    }
   ],
   "metadata": {}
  }
 ],
 "metadata": {
  "interpreter": {
   "hash": "a64f6659a6d65473ce498605c2eaf3b9aa9adfa193729c443bc06bd2a9b308bd"
  },
  "kernelspec": {
   "display_name": "Python [conda env:tomocat]",
   "language": "python",
   "name": "conda-env-tomocat-py"
  },
  "language_info": {
   "codemirror_mode": {
    "name": "ipython",
    "version": 3
   },
   "file_extension": ".py",
   "mimetype": "text/x-python",
   "name": "python",
   "nbconvert_exporter": "python",
   "pygments_lexer": "ipython3",
   "version": "3.9.2"
  }
 },
 "nbformat": 4,
 "nbformat_minor": 5
}