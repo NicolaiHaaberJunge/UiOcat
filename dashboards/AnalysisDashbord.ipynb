{
 "cells": [
  {
   "cell_type": "code",
   "execution_count": 74,
   "source": [
    "%matplotlib widget\r\n",
    "%load_ext autoreload\r\n",
    "%autoreload 2\r\n",
    "\r\n",
    "import ipywidgets as widgets\r\n",
    "from ipywidgets import Output, HBox, VBox\r\n",
    "\r\n",
    "from IPython.display import display, clear_output\r\n",
    "\r\n",
    "import numpy as np\r\n",
    "import pandas as pd\r\n",
    "import matplotlib.pyplot as plt\r\n",
    "from matplotlib.ticker import FormatStrFormatter\r\n",
    "from uiocat.analysis import GC_Analysis\r\n",
    "from uiocat.reactions import Reaction\r\n",
    "from uiocat.instrument import CoFeedRig, HighPressureRig\r\n",
    "import datetime as dt\r\n",
    "import os\r\n",
    "\r\n",
    "plt.style.use('bmh')\r\n",
    "plt.rcParams[\"figure.figsize\"] = (6, 4)"
   ],
   "outputs": [
    {
     "output_type": "stream",
     "name": "stdout",
     "text": [
      "The autoreload extension is already loaded. To reload it, use:\n",
      "  %reload_ext autoreload\n"
     ]
    }
   ],
   "metadata": {
    "autorun": true
   }
  },
  {
   "cell_type": "markdown",
   "source": [
    "# UiO Catalysis Catalytic Testing"
   ],
   "metadata": {}
  },
  {
   "cell_type": "markdown",
   "source": [
    "## Data Analysis Dashbord"
   ],
   "metadata": {}
  },
  {
   "cell_type": "markdown",
   "source": [
    "This dashbord analysis your \"time-on-stream\" data and calculates conversion, yield, and selectivity.\n",
    "You can export the results to an excel report by clicking \"Export to Excel\""
   ],
   "metadata": {}
  },
  {
   "cell_type": "code",
   "execution_count": 75,
   "source": [
    "#### COFEED RIG LAYOUT\r\n",
    "\r\n",
    "\r\n",
    "layout = {'width': '700px'}  # Setting the widgets layout\r\n",
    "style = {'description_width': '150px'}  # Setting the widget style\r\n",
    "\r\n",
    "# The widget for raw data path\r\n",
    "cofeed_input_folder = widgets.Text(\r\n",
    "    placeholder='Folder Path',\r\n",
    "    description='Raw Data Path',\r\n",
    "    disabled=False,\r\n",
    "    layout=layout, style=style)\r\n",
    "\r\n",
    "# The widget for MS file name\r\n",
    "cofeed_file = widgets.Text(\r\n",
    "    placeholder='my_GC_data_file_name.csv',\r\n",
    "    description='GC data file name',\r\n",
    "    disabled=False,\r\n",
    "    layout=layout, style=style)\r\n",
    "\r\n",
    "cofeed_button_analysis = widgets.Button(description=\"Run Analysis\")\r\n",
    "cofeed_output_analysis = widgets.Output()\r\n",
    "\r\n",
    "cofeed_button_report = widgets.Button(description=\"Export to Excel\")\r\n",
    "cofeed_output_report = widgets.Output()\r\n",
    "\r\n",
    "cofeed_button_clear = widgets.Button(description=\"Clear Window\")\r\n",
    "\r\n",
    "cofeed_Buttons = widgets.HBox([cofeed_button_analysis, cofeed_button_report, cofeed_button_clear])\r\n",
    "cofeed_Outputs = widgets.VBox([cofeed_output_report, cofeed_output_analysis])\r\n",
    "\r\n",
    "cofeed_ButtonSegment = VBox([cofeed_Buttons, cofeed_Outputs])\r\n",
    "\r\n",
    "def cofeed_on_button_clicked(b):\r\n",
    "    global cofeed_analysis\r\n",
    "    \r\n",
    "    with cofeed_output_analysis:\r\n",
    "        clear_output()\r\n",
    "        if (cofeed_file.value == '') or (cofeed_input_folder.value == ''):\r\n",
    "            print(\"Insert file and folder paths!!\")\r\n",
    "        else:\r\n",
    "            File_GC = os.path.join(cofeed_input_folder.value, cofeed_file.value)\r\n",
    "            MTH = Reaction(reac='mth', feed=['methanol', 'dme'])  # First we define the reaction\r\n",
    "            Co_Feed = CoFeedRig(File_GC, measurment_offset=5)  # Load instrument which contains instrument specific data such as respons factors\r\n",
    "            cofeed_analysis = GC_Analysis(MTH, Co_Feed)  # Then we load the reaction, instrument, and data file\r\n",
    "            cofeed_analysis.results()\r\n",
    "            \r\n",
    "def cofeed_on_report_button_clicked(b):\r\n",
    "    with cofeed_output_report:\r\n",
    "        clear_output()\r\n",
    "        cofeed_analysis.export_to_excel()\r\n",
    "\r\n",
    "def clear_output_button(b):\r\n",
    "    with cofeed_output_analysis:\r\n",
    "        clear_output()\r\n",
    "    \r\n",
    "cofeed_button_analysis.on_click(cofeed_on_button_clicked)\r\n",
    "cofeed_button_report.on_click(cofeed_on_report_button_clicked)\r\n",
    "cofeed_button_clear.on_click(clear_output_button)\r\n",
    "\r\n",
    "# Setting up the display layout of the widgets\r\n",
    "cofeed_Data_Paths_Widget = VBox([cofeed_input_folder, cofeed_file, cofeed_ButtonSegment])\r\n",
    "#display(cofeed_Data_Paths_Widget)\r\n"
   ],
   "outputs": [],
   "metadata": {
    "autorun": true,
    "jupyter": {
     "source_hidden": true
    }
   }
  },
  {
   "cell_type": "code",
   "execution_count": 76,
   "source": [
    "#### HIGH PRESSURE RIG LAYOUT\r\n",
    "\r\n",
    "layout = {'width': '800px'}  # Setting the widgets layout\r\n",
    "style = {'description_width': '150px'}  # Setting the widget style\r\n",
    "\r\n",
    "# The widget for raw data path\r\n",
    "HighP_main_input_folder = widgets.Text(\r\n",
    "    placeholder='Folder Path',\r\n",
    "    description='Raw Data Path',\r\n",
    "    disabled=False,\r\n",
    "    layout=layout, style=style)\r\n",
    "\r\n",
    "# The widget for MS file name\r\n",
    "GC_file_Mid = widgets.Text(\r\n",
    "    placeholder='Mid-FID-file.xlsx',\r\n",
    "    description='Mid FID Data',\r\n",
    "    disabled=False,\r\n",
    "    layout=layout, style=style)\r\n",
    "\r\n",
    "GC_file_Rear = widgets.Text(\r\n",
    "    placeholder='Rear-FID-file.xlsx',\r\n",
    "    description='Rear FID Data',\r\n",
    "    disabled=False,\r\n",
    "    layout=layout, style=style)\r\n",
    "\r\n",
    "\r\n",
    "HighP_button_analysis = widgets.Button(description=\"Run Analysis\")\r\n",
    "HighP_output_analysis = widgets.Output()\r\n",
    "\r\n",
    "HighP_button_report = widgets.Button(description=\"Export to Excel\")\r\n",
    "HighP_output_report = widgets.Output()\r\n",
    "\r\n",
    "HighP_button_clear = widgets.Button(description=\"Clear Window\")\r\n",
    "\r\n",
    "\r\n",
    "HighP_Buttons = widgets.HBox([HighP_button_analysis, HighP_button_report, HighP_button_clear])\r\n",
    "HighP_Outputs = widgets.VBox([HighP_output_report, HighP_output_analysis])\r\n",
    "\r\n",
    "HighP_ButtonSegment = VBox([HighP_Buttons, HighP_Outputs])\r\n",
    "\r\n",
    "def HighP_on_button_clicked(b):\r\n",
    "    global HighP_analysis\r\n",
    "    \r\n",
    "    with HighP_output_analysis:\r\n",
    "        clear_output()\r\n",
    "        if (GC_file_Mid.value == '') or (GC_file_Rear.value == '') or (HighP_main_input_folder.value == ''):\r\n",
    "            print(\"Insert file and folder paths!!\")\r\n",
    "        else:\r\n",
    "            FID_Files = [os.path.join(HighP_main_input_folder.value, GC_file_Mid.value), os.path.join(HighP_main_input_folder.value, GC_file_Rear.value)]\r\n",
    "            MTH = Reaction(reac='mth-highP')  # First we define the reaction\r\n",
    "            HighP_Rig = HighPressureRig(FID_Files)  # Load instrument which contains instrument specific data such as respons factors\r\n",
    "            HighP_analysis = GC_Analysis(MTH, HighP_Rig)  # Then we load the reaction, instrument, and data file\r\n",
    "            HighP_analysis.results()\r\n",
    "            \r\n",
    "def HighP_on_report_button_clicked(b):\r\n",
    "    with HighP_output_report:\r\n",
    "        clear_output()\r\n",
    "        HighP_analysis.export_to_excel()\r\n",
    "        \r\n",
    "def HighP_clear_output_button(b):\r\n",
    "    with HighP_output_analysis:\r\n",
    "        clear_output()\r\n",
    "\r\n",
    "HighP_button_analysis.on_click(HighP_on_button_clicked)\r\n",
    "HighP_button_report.on_click(HighP_on_report_button_clicked)\r\n",
    "HighP_button_clear.on_click(HighP_clear_output_button)\r\n",
    "\r\n",
    "# Setting up the display layout of the widgets\r\n",
    "HihgP_Data_Paths_Widget = VBox([HighP_main_input_folder, GC_file_Mid, GC_file_Rear, HighP_ButtonSegment])\r\n",
    "#display(HihgP_Data_Paths_Widget)"
   ],
   "outputs": [],
   "metadata": {
    "autorun": true,
    "jupyter": {
     "source_hidden": true
    },
    "tags": []
   }
  },
  {
   "cell_type": "code",
   "execution_count": 77,
   "source": [
    "tab_contents = ['CoFeed Rig', 'High Pressure Rig']\r\n",
    "children = [cofeed_Data_Paths_Widget, HihgP_Data_Paths_Widget]\r\n",
    "tab = widgets.Tab()\r\n",
    "tab.children = children\r\n",
    "[tab.set_title(i, title) for i, title in enumerate(tab_contents)]\r\n",
    "tab"
   ],
   "outputs": [
    {
     "output_type": "display_data",
     "data": {
      "text/plain": [
       "Tab(children=(VBox(children=(Text(value='', description='Raw Data Path', layout=Layout(width='700px'), placeho…"
      ],
      "application/vnd.jupyter.widget-view+json": {
       "model_id": "e1c9919ceb60465c8dd53982dceb6220",
       "version_major": 2,
       "version_minor": 0
      }
     },
     "metadata": {}
    }
   ],
   "metadata": {
    "autorun": true,
    "jupyter": {
     "source_hidden": true
    }
   }
  }
 ],
 "metadata": {
  "kernelspec": {
   "display_name": "Python [conda env:tomocat]",
   "language": "python",
   "name": "conda-env-tomocat-py"
  },
  "language_info": {
   "codemirror_mode": {
    "name": "ipython",
    "version": 3
   },
   "file_extension": ".py",
   "mimetype": "text/x-python",
   "name": "python",
   "nbconvert_exporter": "python",
   "pygments_lexer": "ipython3",
   "version": "3.9.2"
  }
 },
 "nbformat": 4,
 "nbformat_minor": 4
}